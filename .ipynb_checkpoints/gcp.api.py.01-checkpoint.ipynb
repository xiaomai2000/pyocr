{
 "cells": [
  {
   "cell_type": "code",
   "execution_count": 48,
   "id": "54eeaeb2",
   "metadata": {},
   "outputs": [],
   "source": [
    "import io\n",
    "import os"
   ]
  },
  {
   "cell_type": "code",
   "execution_count": 49,
   "id": "b196cf8d",
   "metadata": {},
   "outputs": [],
   "source": [
    "# Import the Google Cloud client library\n",
    "from google.cloud import vision"
   ]
  },
  {
   "cell_type": "code",
   "execution_count": 50,
   "id": "d64388da",
   "metadata": {},
   "outputs": [],
   "source": [
    "GOOGLE_CLOUD_PROJECT=\"tutorialprj01\"\n",
    "GOOGLE_APPLICATION_CREDENTIALS=\".//key.gcp.json\""
   ]
  },
  {
   "cell_type": "code",
   "execution_count": 51,
   "id": "66e9b963",
   "metadata": {},
   "outputs": [
    {
     "name": "stdout",
     "output_type": "stream",
     "text": [
      "The project ID is: tutorialprj01\n"
     ]
    }
   ],
   "source": [
    "print('The project ID is: {0}'.format(PROJECT_ID))"
   ]
  },
  {
   "cell_type": "code",
   "execution_count": 52,
   "id": "272d98d6",
   "metadata": {},
   "outputs": [],
   "source": [
    "os.environ['GOOGLE_CLOUD_PROJECT']=GOOGLE_CLOUD_PROJECT\n",
    "os.environ['GOOGLE_APPLICATION_CREDENTIALS']=GOOGLE_APPLICATION_CREDENTIALS"
   ]
  },
  {
   "cell_type": "code",
   "execution_count": 53,
   "id": "617d0560",
   "metadata": {},
   "outputs": [],
   "source": [
    "# Instantiates a client\n",
    "client = vision.ImageAnnotatorClient()\n"
   ]
  },
  {
   "cell_type": "code",
   "execution_count": 54,
   "id": "470cec50",
   "metadata": {},
   "outputs": [],
   "source": [
    "# The name of the image file to annotate\n",
    "file_name = os.path.abspath('.//img//brenchmarking.01.png')\n"
   ]
  },
  {
   "cell_type": "code",
   "execution_count": 55,
   "id": "919796a6",
   "metadata": {},
   "outputs": [],
   "source": [
    "# Locads the imag into memory\n",
    "with io.open(file_name, 'rb') as image_file:\n",
    "    content = image_file.read()"
   ]
  },
  {
   "cell_type": "code",
   "execution_count": 56,
   "id": "88f42dd3",
   "metadata": {},
   "outputs": [],
   "source": [
    "#print(content)"
   ]
  },
  {
   "cell_type": "code",
   "execution_count": 57,
   "id": "b9eb57e1",
   "metadata": {},
   "outputs": [
    {
     "ename": "AttributeError",
     "evalue": "module 'google.cloud.vision' has no attribute 'Image'",
     "output_type": "error",
     "traceback": [
      "\u001b[1;31m---------------------------------------------------------------------------\u001b[0m",
      "\u001b[1;31mAttributeError\u001b[0m                            Traceback (most recent call last)",
      "Input \u001b[1;32mIn [57]\u001b[0m, in \u001b[0;36m<cell line: 1>\u001b[1;34m()\u001b[0m\n\u001b[1;32m----> 1\u001b[0m image \u001b[38;5;241m=\u001b[39m \u001b[43mvision\u001b[49m\u001b[38;5;241;43m.\u001b[39;49m\u001b[43mImage\u001b[49m()\n",
      "\u001b[1;31mAttributeError\u001b[0m: module 'google.cloud.vision' has no attribute 'Image'"
     ]
    }
   ],
   "source": [
    "image = vision.Image()"
   ]
  },
  {
   "cell_type": "code",
   "execution_count": 58,
   "id": "324a1ca1",
   "metadata": {},
   "outputs": [
    {
     "ename": "AttributeError",
     "evalue": "module 'google.cloud.vision' has no attribute 'Image'",
     "output_type": "error",
     "traceback": [
      "\u001b[1;31m---------------------------------------------------------------------------\u001b[0m",
      "\u001b[1;31mAttributeError\u001b[0m                            Traceback (most recent call last)",
      "Input \u001b[1;32mIn [58]\u001b[0m, in \u001b[0;36m<cell line: 1>\u001b[1;34m()\u001b[0m\n\u001b[1;32m----> 1\u001b[0m image \u001b[38;5;241m=\u001b[39m \u001b[43mvision\u001b[49m\u001b[38;5;241;43m.\u001b[39;49m\u001b[43mImage\u001b[49m(content \u001b[38;5;241m=\u001b[39m content)\n",
      "\u001b[1;31mAttributeError\u001b[0m: module 'google.cloud.vision' has no attribute 'Image'"
     ]
    }
   ],
   "source": [
    "image = vision.Image(content = content)"
   ]
  },
  {
   "cell_type": "code",
   "execution_count": null,
   "id": "12558c2f",
   "metadata": {},
   "outputs": [],
   "source": []
  }
 ],
 "metadata": {
  "kernelspec": {
   "display_name": "Python gcp_ocr",
   "language": "python",
   "name": "gcp_ocr"
  },
  "language_info": {
   "codemirror_mode": {
    "name": "ipython",
    "version": 3
   },
   "file_extension": ".py",
   "mimetype": "text/x-python",
   "name": "python",
   "nbconvert_exporter": "python",
   "pygments_lexer": "ipython3",
   "version": "3.9.12"
  }
 },
 "nbformat": 4,
 "nbformat_minor": 5
}
