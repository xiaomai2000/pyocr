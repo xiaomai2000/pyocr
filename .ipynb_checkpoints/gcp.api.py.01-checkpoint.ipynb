{
 "cells": [
  {
   "cell_type": "code",
   "execution_count": null,
   "id": "54eeaeb2",
   "metadata": {},
   "outputs": [],
   "source": [
    "import io\n",
    "import os"
   ]
  },
  {
   "cell_type": "code",
   "execution_count": null,
   "id": "b196cf8d",
   "metadata": {},
   "outputs": [],
   "source": [
    "# Import the Google Cloud client library\n",
    "from google.cloud import vision\n",
    "from google.cloud.vision import ImageAnnotatorClient"
   ]
  },
  {
   "cell_type": "code",
   "execution_count": null,
   "id": "83a1673a",
   "metadata": {},
   "outputs": [],
   "source": [
    "GOOGLE_CLOUD_PROJECT=\"tutorialprj01\"\n",
    "GOOGLE_APPLICATION_CREDENTIALS=\"./key.gcp.json\""
   ]
  },
  {
   "cell_type": "code",
   "execution_count": null,
   "id": "5f98ebee",
   "metadata": {},
   "outputs": [],
   "source": [
    "print('The project ID is: {0}'.format(GOOGLE_CLOUD_PROJECT))"
   ]
  },
  {
   "cell_type": "code",
   "execution_count": null,
   "id": "2ab9a734",
   "metadata": {},
   "outputs": [],
   "source": [
    "os.environ['GOOGLE_CLOUD_PROJECT']=GOOGLE_CLOUD_PROJECT\n",
    "os.environ['GOOGLE_APPLICATION_CREDENTIALS']=GOOGLE_APPLICATION_CREDENTIALS"
   ]
  },
  {
   "cell_type": "code",
   "execution_count": null,
   "id": "8077fb21",
   "metadata": {},
   "outputs": [],
   "source": [
    "os.environ['http_proxy']=r\"http://localhost:10809\""
   ]
  },
  {
   "cell_type": "code",
   "execution_count": null,
   "id": "62b15ef7",
   "metadata": {},
   "outputs": [],
   "source": [
    "# Instantiates a client\n",
    "client = vision.ImageAnnotatorClient()"
   ]
  },
  {
   "cell_type": "code",
   "execution_count": null,
   "id": "37e85b21",
   "metadata": {},
   "outputs": [],
   "source": [
    "# The name of the image file to annotate\n",
    "file_name = os.path.abspath('./img/brenchmarking.01.png')\n"
   ]
  },
  {
   "cell_type": "code",
   "execution_count": null,
   "id": "919796a6",
   "metadata": {},
   "outputs": [],
   "source": [
    "# Locads the imag into memory\n",
    "with io.open(file_name, 'rb') as image_file:\n",
    "    content = image_file.read()\n"
   ]
  },
  {
   "cell_type": "code",
   "execution_count": null,
   "id": "8490dfa6",
   "metadata": {},
   "outputs": [],
   "source": [
    "#print(content)"
   ]
  },
  {
   "cell_type": "code",
   "execution_count": null,
   "id": "324a1ca1",
   "metadata": {},
   "outputs": [],
   "source": [
    "image = vision.Image(content=content)"
   ]
  },
  {
   "cell_type": "code",
   "execution_count": null,
   "id": "700c7655",
   "metadata": {},
   "outputs": [],
   "source": [
    "# Performs label detection on the image file\n",
    "response = client.text_detection(image=image)\n",
    "labels = response.label_annotations"
   ]
  },
  {
   "cell_type": "code",
   "execution_count": null,
   "id": "00ef81ca",
   "metadata": {},
   "outputs": [],
   "source": [
    "texts = response.text_annotations"
   ]
  },
  {
   "cell_type": "code",
   "execution_count": null,
   "id": "12558c2f",
   "metadata": {},
   "outputs": [],
   "source": [
    "\n",
    "\n",
    "print('Labels (and confidence score):')\n",
    "print('=' * 30)\n",
    "for label in labels:\n",
    "    print(label.description, '(%.2f%%)' % (label.score*100.))"
   ]
  },
  {
   "cell_type": "code",
   "execution_count": null,
   "id": "3a6afe1d",
   "metadata": {},
   "outputs": [],
   "source": [
    "for text in texts:\n",
    "    print(text.description)"
   ]
  },
  {
   "cell_type": "code",
   "execution_count": null,
   "id": "a879de7a",
   "metadata": {},
   "outputs": [],
   "source": [
    "#print(response)"
   ]
  },
  {
   "cell_type": "code",
   "execution_count": null,
   "id": "77022bdc",
   "metadata": {},
   "outputs": [],
   "source": [
    "print(texts)"
   ]
  },
  {
   "cell_type": "code",
   "execution_count": null,
   "id": "752dc22e",
   "metadata": {},
   "outputs": [],
   "source": []
  }
 ],
 "metadata": {
  "kernelspec": {
   "display_name": "Python gcp_ocr",
   "language": "python",
   "name": "gcp_ocr"
  },
  "language_info": {
   "codemirror_mode": {
    "name": "ipython",
    "version": 3
   },
   "file_extension": ".py",
   "mimetype": "text/x-python",
   "name": "python",
   "nbconvert_exporter": "python",
   "pygments_lexer": "ipython3",
   "version": "3.9.12"
  }
 },
 "nbformat": 4,
 "nbformat_minor": 5
}
